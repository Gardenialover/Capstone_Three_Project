{
 "cells": [
  {
   "cell_type": "code",
   "execution_count": 1,
   "id": "45d5b506-c8b0-43c1-82a1-401081ff6f02",
   "metadata": {},
   "outputs": [
    {
     "name": "stdout",
     "output_type": "stream",
     "text": [
      "WARNING:tensorflow:From C:\\Users\\Yan Zhang\\anaconda3\\envs\\Capstone_Three_Project\\lib\\site-packages\\keras\\src\\losses.py:2976: The name tf.losses.sparse_softmax_cross_entropy is deprecated. Please use tf.compat.v1.losses.sparse_softmax_cross_entropy instead.\n",
      "\n"
     ]
    }
   ],
   "source": [
    "import pandas as pd\n",
    "import numpy as np\n",
    "\n",
    "import matplotlib.pyplot as plt\n",
    "import seaborn as sns\n",
    "import os\n",
    "import re\n",
    "from __future__ import print_function\n",
    "\n",
    "import string\n",
    "import spacy\n",
    "import nltk\n",
    "import re\n",
    "from nltk.tokenize import word_tokenize\n",
    "from sklearn.model_selection import train_test_split, cross_val_score, StratifiedKFold,GridSearchCV\n",
    "\n",
    "from sklearn.preprocessing import MinMaxScaler, LabelEncoder\n",
    "from keras.preprocessing.text import Tokenizer\n",
    "from keras.preprocessing.sequence import pad_sequences\n",
    "from keras.models import Sequential\n",
    "from keras.layers import Embedding, LSTM, Dense,Dropout\n",
    "from scikeras.wrappers import  KerasClassifier\n",
    "from sklearn.utils.class_weight import compute_class_weight\n",
    "from sklearn.pipeline import Pipeline\n",
    "from keras.utils import to_categorical\n",
    "\n",
    "from sklearn.naive_bayes import MultinomialNB\n",
    "from sklearn.svm import SVC"
   ]
  },
  {
   "cell_type": "code",
   "execution_count": 2,
   "id": "9c16a278-9ad1-4367-b7ba-76afd30b32ff",
   "metadata": {},
   "outputs": [],
   "source": [
    "df = pd.read_csv('../data/processed/drug_review_clean.csv', index_col= False)"
   ]
  },
  {
   "cell_type": "markdown",
   "id": "16b0c3ba-bcef-48cf-ae52-06bdcd91edf7",
   "metadata": {},
   "source": [
    "# Preprocess"
   ]
  },
  {
   "cell_type": "markdown",
   "id": "001d50cd-c601-40d2-a5c6-753711b50e4f",
   "metadata": {},
   "source": [
    "Build a class to do preprocess\n",
    "The dataframe contains different types of features: numericals ('mean_word_len','word_count', etc), categorical(eg.'rating_category','condidition','drugName'), and datetime ('date'). Also, The target of 'sentiment_label' is categorimcal. The preprocess including the following steps:\n",
    "\n",
    "tokenizer the'review_clean' using keras Tokenizer\n",
    "encode the categorical features and target 'sentiment_label'\n",
    "extract the 'date' to several new features 'year','month','day'.\n",
    "scale the numerical features using MinMaxScaler.\n",
    "train test split"
   ]
  },
  {
   "cell_type": "code",
   "execution_count": 3,
   "id": "89d30aa8-af29-492f-a147-1127415d5e8c",
   "metadata": {},
   "outputs": [],
   "source": [
    "from sklearn.base import BaseEstimator, TransformerMixin\n",
    "class TextPreprocessor(BaseEstimator, TransformerMixin):\n",
    "    def __init__(self, max_sequence_length=214):\n",
    "        self.max_sequence_length = max_sequence_length\n",
    "        self.tokenizer = None\n",
    "    \"\"\" define a function to convert text to tokenizer \"\"\"\n",
    "    def fit(self, X, y=None):\n",
    "        self.tokenizer = Tokenizer(num_words = 5000, lower = False)\n",
    "        self.tokenizer.fit_on_texts(X)\n",
    "        return self\n",
    "    \"\"\" define a function to convert the review text into sequence \"\"\"\n",
    "\n",
    "    def transform(self, X):\n",
    "        sequences = self.tokenizer.texts_to_sequences(X)\n",
    "        return pad_sequences(sequences, maxlen= 200)\n"
   ]
  },
  {
   "cell_type": "code",
   "execution_count": 4,
   "id": "c185dd86-2e26-4c8b-a5c7-ace9e7f2e7cd",
   "metadata": {},
   "outputs": [],
   "source": [
    "class NumericalScaler(BaseEstimator, TransformerMixin):\n",
    "    def fit(self, X, y=None):\n",
    "        self.scaler = MinMaxScaler()\n",
    "        self.scaler.fit(X)\n",
    "        return self\n",
    "\n",
    "    def transform(self, X):\n",
    "        return self.scaler.transform(X)"
   ]
  },
  {
   "cell_type": "code",
   "execution_count": 5,
   "id": "f8efbb86-8378-4357-bca0-6e325ec2d98c",
   "metadata": {},
   "outputs": [],
   "source": [
    "class CategoricalEncoder(BaseEstimator, TransformerMixin):\n",
    "    def fit(self, X, y = None):\n",
    "        self.label_encoder = LabelEncoder()\n",
    "        self.label_encoder.fit(X)\n",
    "        return self\n",
    "\n",
    "    def transform(self,X):\n",
    "        return self.label_encoder.transform(X).reshape(-1,1)"
   ]
  },
  {
   "cell_type": "code",
   "execution_count": 6,
   "id": "0988a32b-62e7-43da-aa5e-f47ca543abf3",
   "metadata": {},
   "outputs": [],
   "source": [
    "class DateExtractor(BaseEstimator, TransformerMixin):\n",
    "    def fit(self, X, y=None):\n",
    "        return self\n",
    "\n",
    "    def transform(self,X):\n",
    "        X['date'] = pd.to_datetime(X['date'])\n",
    "        X['year'] = X['date'].dt.year\n",
    "        X['month'] = X['date'].dt.month\n",
    "        X['day'] = X['date'].dt.day\n",
    "        return X[['year','month','day']]               ## should be X[['year','month','day']].values],axis= 1?"
   ]
  },
  {
   "cell_type": "code",
   "execution_count": 7,
   "id": "5b32e279-10f2-427a-a9bd-1e5f11dc1d70",
   "metadata": {},
   "outputs": [],
   "source": [
    "X = df[\n",
    "    [\n",
    "        \"drugName\",\n",
    "        \"condition\",\n",
    "        \"rating\",\n",
    "        \"date\",\n",
    "        \"usefulCount\",\n",
    "        \"rating_category\",\n",
    "        \"review_clean\",\n",
    "        \"review_len\",\n",
    "        \"mean_sentence_len\",\n",
    "        \"word_count\",\n",
    "        \"mean_word_len\",\n",
    "        \"unique_word_count\",\n",
    "        \"sentiment_subjectivity\",\n",
    "        \"sentiment_score\",\n",
    "        \"genuine_positive\",\n",
    "        \"genuine_negative\",\n",
    "        \"genuine_neutral\",\n",
    "    ]\n",
    "]\n",
    "y = df[[\"sentiment_label\"]]"
   ]
  },
  {
   "cell_type": "code",
   "execution_count": 8,
   "id": "36bcf4d7-51b9-4992-a142-6d0beaa58350",
   "metadata": {},
   "outputs": [],
   "source": [
    "# Transfrom each feature\n",
    "df[\"review_clean\"] = df[\"review_clean\"].apply(lambda x: \" \".join(x.split()[:200]))\n",
    "X_text = TextPreprocessor(max_sequence_length=214).fit_transform(df[\"review_clean\"])\n",
    "numerical_cols = [\n",
    "    \"rating\",\n",
    "    \"usefulCount\",\n",
    "    \"review_len\",\n",
    "    \"mean_sentence_len\",\n",
    "    \"word_count\",\n",
    "    \"mean_word_len\",\n",
    "    \"unique_word_count\",\n",
    "    \"sentiment_subjectivity\",\n",
    "    \"sentiment_score\",\n",
    "]\n",
    "X_numerical = NumericalScaler().fit_transform(df[numerical_cols])\n",
    "X_drugName = CategoricalEncoder().fit_transform(df[\"drugName\"])\n",
    "X_condition = CategoricalEncoder().fit_transform(df[\"condition\"])\n",
    "X_date = DateExtractor().fit_transform(df)"
   ]
  },
  {
   "cell_type": "code",
   "execution_count": 9,
   "id": "57cdb27f-1867-4f63-bf7d-8f9a4e91ee9b",
   "metadata": {},
   "outputs": [],
   "source": [
    "#combine the features\n",
    "X_transformed = np.concatenate([X_text, X_numerical, X_drugName,\n",
    "                                X_condition, X_date], axis=1)"
   ]
  },
  {
   "cell_type": "code",
   "execution_count": 10,
   "id": "768cf371-6528-49c5-99e9-62aedfe69fd0",
   "metadata": {},
   "outputs": [],
   "source": [
    "#encode targe feature\n",
    "sentiment_label_encode = LabelEncoder()\n",
    "y_encode = sentiment_label_encode.fit_transform(df['sentiment_label'])\n",
    "#y = to_categorical(y_encode)"
   ]
  },
  {
   "cell_type": "code",
   "execution_count": 11,
   "id": "f1f71d93-6bfb-40f1-b3f6-a384226123c8",
   "metadata": {},
   "outputs": [],
   "source": [
    "X_train,X_test,y_train, y_test = train_test_split(X_transformed, y_encode, test_size = 0.25, random_state = 123)"
   ]
  },
  {
   "cell_type": "code",
   "execution_count": 12,
   "id": "ba1350b2-0762-4732-a442-a00495796841",
   "metadata": {},
   "outputs": [
    {
     "name": "stdout",
     "output_type": "stream",
     "text": [
      "[0 1 2]\n"
     ]
    }
   ],
   "source": [
    "print(np.unique(y_train))"
   ]
  },
  {
   "cell_type": "code",
   "execution_count": 13,
   "id": "1e3444bc-c4b3-490e-972e-0cd4470e620f",
   "metadata": {},
   "outputs": [],
   "source": [
    "from sklearn.utils.class_weight import compute_class_weight\n",
    "unique_labels= np.unique(y_train)\n",
    "class_weights = compute_class_weight(class_weight=\"balanced\", classes=unique_labels, y=y_train)\n",
    "class_weight_dict = dict(zip(unique_labels, class_weights))"
   ]
  },
  {
   "cell_type": "code",
   "execution_count": 14,
   "id": "dbb0754a-913f-42cf-98ca-ea33587a1c72",
   "metadata": {},
   "outputs": [],
   "source": [
    "# class_names = sentiment_label_encode.classes_\n",
    "# for class_name, weight in zip(class_names, class_weights):\n",
    "#     print(f\"Class '{class_name}': Weight {weight}\")\n",
    "# class_weight_dict = {0: class_weights[0], 1: class_weights[1], 2:class_weights[2]}"
   ]
  },
  {
   "cell_type": "markdown",
   "id": "ff3b2246-dfda-42d0-8914-cbdde93e7122",
   "metadata": {},
   "source": [
    "# Modeling"
   ]
  },
  {
   "cell_type": "markdown",
   "id": "a78e1d3a-a5ea-4576-a6fb-e99311430086",
   "metadata": {},
   "source": [
    "## LSTM model"
   ]
  },
  {
   "cell_type": "code",
   "execution_count": 15,
   "id": "60c95932-98d1-4183-b46d-c280c17455e4",
   "metadata": {},
   "outputs": [],
   "source": [
    "def create_lstm_model(dropout_rate=0.2, epochs=3, batch_size=64):\n",
    "    lstm_model = Sequential()\n",
    "    lstm_model.add(Embedding(input_dim=5000, output_dim=32, input_length=214))\n",
    "    lstm_model.add(LSTM(100))\n",
    "    lstm_model.add(Dropout(0.2))\n",
    "    lstm_model.add(Dense(3, activation=\"softmax\"))\n",
    "    lstm_model.compile(\n",
    "        loss=\"sparse_categorical_crossentropy\", optimizer=\"adam\", metrics=[\"accuracy\"]\n",
    "    )\n",
    "    # lstm_model.summary()\n",
    "    return lstm_model"
   ]
  },
  {
   "cell_type": "code",
   "execution_count": 16,
   "id": "391770c8-7d0d-48bd-93c4-9b41f96ce2d8",
   "metadata": {},
   "outputs": [],
   "source": [
    "# # print(X_train.dtype, X_test.dtype)\n",
    "# X_train_str= X_train.astype(str)\n",
    "# X_test_str= X_test.astype(str)\n",
    "# X_train_str_lower = [' '.join(str(x).lower().split()) for x in X_train]\n",
    "# X_test_str_lower = [' '.join(str(x).lower().split()) for x in X_test]\n"
   ]
  },
  {
   "cell_type": "code",
   "execution_count": 17,
   "id": "343edb32-acad-4d4c-bbbb-9fffa10f1e14",
   "metadata": {},
   "outputs": [],
   "source": [
    "# #trucate the review to the first 200 words\n",
    "# # df['review_clean'] = df['review_clean'].apply(lambda x : ' '.join(x.split()[:200]))\n",
    "# tokenizer = Tokenizer(num_words = 5000,lower = False)\n",
    "# tokenizer.fit_on_texts(df['review_clean'])"
   ]
  },
  {
   "cell_type": "code",
   "execution_count": 18,
   "id": "9447032a-aead-4244-808b-548c0a5f1f1b",
   "metadata": {},
   "outputs": [],
   "source": [
    "# type(X_train)"
   ]
  },
  {
   "cell_type": "code",
   "execution_count": 19,
   "id": "3fb16831-8d6c-4f68-86be-7d4c42cf4e1b",
   "metadata": {},
   "outputs": [],
   "source": [
    "X_train_list = X_train.tolist()\n",
    "X_test_list = X_test.tolist()"
   ]
  },
  {
   "cell_type": "code",
   "execution_count": 20,
   "id": "1feead81-0634-44ec-818c-5aed654486c8",
   "metadata": {},
   "outputs": [],
   "source": [
    "# sequences_train = tokenizer.texts_to_sequences(X_train_list)\n",
    "# sequences_test = tokenizer.texts_to_sequences(X_test_list)"
   ]
  },
  {
   "cell_type": "code",
   "execution_count": 21,
   "id": "9ccccde0-06ac-4644-b681-1c666fc4b30d",
   "metadata": {},
   "outputs": [],
   "source": [
    "# X_text_train = pad_sequences(sequences_train,maxlen=265)\n",
    "# X_text_test = pad_sequences(sequences_test,maxlen=265)"
   ]
  },
  {
   "cell_type": "code",
   "execution_count": 22,
   "id": "05c0396b-ace9-414e-96de-9cd27e93bd2a",
   "metadata": {},
   "outputs": [],
   "source": [
    "text_preprocessor = TextPreprocessor(max_sequence_length=214)\n",
    "X_text_train = text_preprocessor.fit_transform(X_train_list)\n",
    "X_text_test = text_preprocessor.transform(X_test_list)"
   ]
  },
  {
   "cell_type": "code",
   "execution_count": 23,
   "id": "f16ee574-df63-4b43-acd9-686a62927f73",
   "metadata": {},
   "outputs": [],
   "source": [
    "kfold = StratifiedKFold(n_splits=5, shuffle=True, random_state=123)\n",
    "lstm_model = KerasClassifier(\n",
    "    model=create_lstm_model, dropout_rate=None, epochs=None, batch_size=None, verbose=0\n",
    ")"
   ]
  },
  {
   "cell_type": "code",
   "execution_count": 24,
   "id": "5f25dd9d-7722-42d0-9b23-093a82581357",
   "metadata": {},
   "outputs": [],
   "source": [
    "param_grids = {\n",
    "    'dropout_rate': [0.0, 0.2, 0.3],\n",
    "    'epochs': [3, 5],\n",
    "    'batch_size': [32, 64]\n",
    "}"
   ]
  },
  {
   "cell_type": "code",
   "execution_count": 25,
   "id": "c51becf2-e6eb-4b67-90f7-2cc817a4566e",
   "metadata": {},
   "outputs": [],
   "source": [
    "kfold = StratifiedKFold(n_splits=5, shuffle=True, random_state=123)\n",
    "lstm_grid = GridSearchCV(\n",
    "    estimator=lstm_model,\n",
    "    param_grid=param_grids,\n",
    "    cv=kfold,\n",
    "    scoring=\"accuracy\",\n",
    "    verbose=0, error_score='raise'\n",
    ")"
   ]
  },
  {
   "cell_type": "code",
   "execution_count": 26,
   "id": "3db88191-d6e3-485e-8323-857dd4de9b47",
   "metadata": {},
   "outputs": [
    {
     "name": "stdout",
     "output_type": "stream",
     "text": [
      "(95990, 214)\n",
      "(95990,)\n"
     ]
    }
   ],
   "source": [
    "print(X_train.shape)\n",
    "print(y_train.shape)"
   ]
  },
  {
   "cell_type": "code",
   "execution_count": 28,
   "id": "9094eb71-8dc9-4e2e-8d13-0d8f69045382",
   "metadata": {},
   "outputs": [
    {
     "data": {
      "text/plain": [
       "<function tensorflow.python.framework.ops.executing_eagerly_outside_functions()>"
      ]
     },
     "execution_count": 28,
     "metadata": {},
     "output_type": "execute_result"
    }
   ],
   "source": [
    "# Supress tensorflow warning\n",
    "import tensorflow as tf\n",
    "tf.compat.v1.get_default_graph()\n",
    "\n",
    "tf.compat.v1.train.Optimizer\n",
    "\n",
    "tf.compat.v1.ragged.RaggedTensorValue\n",
    "\n",
    "tf.compat.v1.executing_eagerly_outside_functions"
   ]
  },
  {
   "cell_type": "code",
   "execution_count": null,
   "id": "8e65fc0c-bdf8-421b-9d8e-b7a95c593195",
   "metadata": {},
   "outputs": [],
   "source": [
    "lstm_grid_result = lstm_grid.fit(\n",
    "    X_train, y_train,class_weight=class_weight_dict\n",
    ")"
   ]
  },
  {
   "cell_type": "code",
   "execution_count": null,
   "id": "395094a6-eae2-40fc-8fb9-1323b84c0a4b",
   "metadata": {},
   "outputs": [],
   "source": [
    "best_lstm_params = lstm_grid_result.best_params_\n",
    "best_lstm_model = lstm_model(**best_lstm_params)\n",
    "best_lstm_model.fit(X_train, y_train)"
   ]
  },
  {
   "cell_type": "code",
   "execution_count": null,
   "id": "1c3b5cb0-0c1b-4fc7-86d1-06620f62257f",
   "metadata": {},
   "outputs": [],
   "source": [
    "lstm_pred = best_lstm_model.predict(X_test)\n",
    "lstm_accuracy = accuracy_score(y_test), lstm_pred)\n",
    "print(\"\\n LSTM model performance: \")\n",
    "print(f'best hyperparameters:{best_lstm_params}')\n",
    "print(f'accuracy:{lstm_accuracy}')"
   ]
  },
  {
   "cell_type": "code",
   "execution_count": null,
   "id": "4eec4ba4-41d7-4940-8211-eaf74c02959f",
   "metadata": {},
   "outputs": [],
   "source": []
  },
  {
   "cell_type": "markdown",
   "id": "942d0ab1-325a-48eb-853c-345cccb8279f",
   "metadata": {},
   "source": [
    "## SVC model"
   ]
  },
  {
   "cell_type": "code",
   "execution_count": null,
   "id": "1052966c-9764-45b5-bc23-9a3e667c42fc",
   "metadata": {},
   "outputs": [],
   "source": [
    "svc_model = SVC()"
   ]
  },
  {
   "cell_type": "code",
   "execution_count": null,
   "id": "0ec1fd63-fb1d-45aa-839d-0aca56479ce8",
   "metadata": {},
   "outputs": [],
   "source": [
    "svc_param_grid = {'C': [0.1,1, 10], 'gamma': [1,0.1,0.01],'kernel': ['rbf', 'poly', 'sigmoid']}"
   ]
  },
  {
   "cell_type": "code",
   "execution_count": null,
   "id": "13ec52c1-a74b-469c-baec-5bbe5915be32",
   "metadata": {},
   "outputs": [],
   "source": [
    "kfold = StratifiedKFold(n_splits=5, shuffle=True, random_state=123)\n",
    "svc_grid = GridSearchCV(estimator=svc_model, param_grid=svc_param_grid, scoring='accuracy', cv=kfold, verbose=0)\n",
    "svc_grid_results = svc_grid.fit(X_train, y_train.argmax(axis=1))"
   ]
  },
  {
   "cell_type": "code",
   "execution_count": null,
   "id": "9381d64f-7d7b-41c2-9966-0af9c36ed7c3",
   "metadata": {},
   "outputs": [],
   "source": [
    "best_svc_params = svc_grid_result.best_params_\n",
    "best_svc_model = svc_model(**best_lstm_params)\n",
    "best_svc_model.fit(X_train, y_train.argmax(axis = 1))"
   ]
  },
  {
   "cell_type": "code",
   "execution_count": null,
   "id": "39e4b82f-0f90-4676-a76f-b0799695d885",
   "metadata": {},
   "outputs": [],
   "source": [
    "svc_pred = best_svc_model.predict(X_test)\n",
    "svc_accuracy = accuracy_score(y_test.argmax(axis =1), svc_pred)\n",
    "print(\"\\n svc model performance: \")\n",
    "print(f'best hyperparameters:{best_svc_params}')\n",
    "print(f'accuracy:{svc_accuracy}')"
   ]
  },
  {
   "cell_type": "code",
   "execution_count": null,
   "id": "3908f6d3-5496-466c-b5ab-9fe22ef82efc",
   "metadata": {},
   "outputs": [],
   "source": []
  },
  {
   "cell_type": "markdown",
   "id": "5b8c8011-d62c-4aa3-a8d7-fd5bee192029",
   "metadata": {},
   "source": [
    "## Multinomial Naive Bayes Model (MNB)"
   ]
  },
  {
   "cell_type": "code",
   "execution_count": null,
   "id": "637bf26d-9a14-4a15-bda7-7b19527258fe",
   "metadata": {},
   "outputs": [],
   "source": [
    "mnb_model = MultinomialNB()\n"
   ]
  },
  {
   "cell_type": "code",
   "execution_count": null,
   "id": "99c9e611-69b5-422c-955f-3eb7542fd373",
   "metadata": {},
   "outputs": [],
   "source": [
    "mnb_param_grid = {'alpha': [0.01, 0.1, 0.5, 1.0, 10.0, ],\n",
    "          'fit_prior': [True, False]\n",
    "         }\n",
    "\n",
    "mnb_grid = GridSearchCV(mnb_model, param_grid=mnb_param_grid, n_jobs=-1, cv=5, verbose=5)\n",
    "mnb_grid.fit(X_train,y_train)\n",
    "\n",
    "print('Best Accuracy Through Grid Search : {:.3f}'.format(mnb_grid.best_score_))\n",
    "print('Best Parameters : {}\\n'.format(mnb_grid.best_params_))"
   ]
  },
  {
   "cell_type": "code",
   "execution_count": null,
   "id": "6c18a9bd-b085-49e8-802f-24435b28c77f",
   "metadata": {},
   "outputs": [],
   "source": [
    "from sklearn.metrics import classification_report, accuracy_score\n",
    "\n",
    "y_preds = mnb_grid.best_estimator_.predict(X_test)\n",
    "y_preds_train = mnb_grid.best_estimator_.predict(X_train)\n",
    "\n",
    "print(\"Test Accuracy Score : {:.3f}\".format(accuracy_score(y_test, y_preds)))\n",
    "print(\"Train Accuracy Score : {:.3f}\".format(accuracy_score(y_train, y_preds_train)))\n",
    "print(\"\\nClassification Report :\")\n",
    "print(classification_report(y_test, y_preds))"
   ]
  }
 ],
 "metadata": {
  "kernelspec": {
   "display_name": "Python 3 (ipykernel)",
   "language": "python",
   "name": "python3"
  },
  "language_info": {
   "codemirror_mode": {
    "name": "ipython",
    "version": 3
   },
   "file_extension": ".py",
   "mimetype": "text/x-python",
   "name": "python",
   "nbconvert_exporter": "python",
   "pygments_lexer": "ipython3",
   "version": "3.10.13"
  }
 },
 "nbformat": 4,
 "nbformat_minor": 5
}
