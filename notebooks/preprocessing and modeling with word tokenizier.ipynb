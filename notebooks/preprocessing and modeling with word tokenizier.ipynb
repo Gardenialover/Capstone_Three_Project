{
 "cells": [
  {
   "cell_type": "code",
   "execution_count": 1,
   "id": "5557bad3",
   "metadata": {},
   "outputs": [],
   "source": [
    "!pip install scikeras scikit-learn-intelex threadpoolctl -q"
   ]
  },
  {
   "cell_type": "code",
   "execution_count": 18,
   "id": "45d5b506-c8b0-43c1-82a1-401081ff6f02",
   "metadata": {},
   "outputs": [],
   "source": [
    "import pandas as pd\n",
    "import numpy as np\n",
    "\n",
    "import matplotlib.pyplot as plt\n",
    "import seaborn as sns\n",
    "import os\n",
    "import re\n",
    "from __future__ import print_function\n",
    "from datetime import datetime\n",
    "\n",
    "import string\n",
    "import spacy\n",
    "import nltk\n",
    "from nltk.tokenize import word_tokenize\n",
    "from sklearn.model_selection import train_test_split, cross_val_score, StratifiedKFold,GridSearchCV\n",
    "\n",
    "import tensorflow as tf   \n",
    "from sklearn.preprocessing import MinMaxScaler, LabelEncoder, OrdinalEncoder\n",
    "\n",
    "from keras.preprocessing.text import Tokenizer\n",
    "from keras.preprocessing.sequence import pad_sequences\n",
    "from keras.models import Sequential\n",
    "from tensorflow.python.keras import Sequential\n",
    "from keras.layers import Embedding, LSTM, Dense,Dropout\n",
    "from scikeras.wrappers import  KerasClassifier\n",
    "from sklearn.utils.class_weight import compute_class_weight\n",
    "from sklearn.pipeline import Pipeline\n",
    "from keras.utils import to_categorical\n",
    "\n",
    "from sklearn.naive_bayes import MultinomialNB\n",
    "from sklearn.ensemble import RandomForestRegressor\n",
    "\n",
    "from sklearn.model_selection import RandomizedSearchCV \n",
    "from sklearn.metrics import accuracy_score,classification_report,confusion_matrix, f1_score,precision_score, recall_score"
   ]
  },
  {
   "cell_type": "markdown",
   "id": "5c6ba258-515e-41a3-b16d-9b5195e28a5b",
   "metadata": {},
   "source": [
    "# Load data"
   ]
  },
  {
   "cell_type": "code",
   "execution_count": 3,
   "id": "9c16a278-9ad1-4367-b7ba-76afd30b32ff",
   "metadata": {},
   "outputs": [],
   "source": [
    "df = pd.read_csv('../data/processed/drug_review_clean.csv', index_col= False)"
   ]
  },
  {
   "cell_type": "markdown",
   "id": "16b0c3ba-bcef-48cf-ae52-06bdcd91edf7",
   "metadata": {},
   "source": [
    "# Preprocess"
   ]
  },
  {
   "cell_type": "markdown",
   "id": "001d50cd-c601-40d2-a5c6-753711b50e4f",
   "metadata": {},
   "source": [
    "# Build a class to do preprocess\n",
    "The dataframe contains different types of features: numericals ('mean_word_len','word_count', etc), categorical(eg.'rating_category','condidition','drugName'), and datetime ('date'). Also, The target of 'sentiment_label' is categorimcal. The preprocess including the following steps:\n",
    "\n",
    "1.tokenizer the'review_clean' using keras Tokenizer\n",
    "2. encode the categorical features and target 'sentiment_label'\n",
    "3. extract the 'date' to several new features 'year','month','day'.\n",
    "4.scale the numerical features using MinMaxScaler.\n",
    "5. train test split"
   ]
  },
  {
   "cell_type": "code",
   "execution_count": 4,
   "id": "89d30aa8-af29-492f-a147-1127415d5e8c",
   "metadata": {},
   "outputs": [],
   "source": [
    "from sklearn.base import BaseEstimator, TransformerMixin\n",
    "class TextPreprocessor(BaseEstimator, TransformerMixin):\n",
    "    def __init__(self, max_sequence_length=214):\n",
    "        self.max_sequence_length = max_sequence_length\n",
    "        self.tokenizer = None\n",
    "    \"\"\" define a function to convert text to tokenizer \"\"\"\n",
    "    def fit(self, X, y=None):\n",
    "        self.tokenizer = Tokenizer(num_words = 5000, lower = False)\n",
    "        self.tokenizer.fit_on_texts(X)\n",
    "        return self\n",
    "    \"\"\" define a function to convert the review text into sequence \"\"\"\n",
    "\n",
    "    def transform(self, X):\n",
    "        sequences = self.tokenizer.texts_to_sequences(X)\n",
    "        return pad_sequences(sequences, maxlen= 200)\n"
   ]
  },
  {
   "cell_type": "code",
   "execution_count": 5,
   "id": "c185dd86-2e26-4c8b-a5c7-ace9e7f2e7cd",
   "metadata": {},
   "outputs": [],
   "source": [
    "class NumericalScaler(BaseEstimator, TransformerMixin):\n",
    "    def fit(self, X, y=None):\n",
    "        self.scaler = MinMaxScaler()\n",
    "        self.scaler.fit(X)\n",
    "        return self\n",
    "\n",
    "    def transform(self, X):\n",
    "        return self.scaler.transform(X)"
   ]
  },
  {
   "cell_type": "code",
   "execution_count": 6,
   "id": "f8efbb86-8378-4357-bca0-6e325ec2d98c",
   "metadata": {},
   "outputs": [],
   "source": [
    "class CategoricalEncoder(BaseEstimator, TransformerMixin):\n",
    "    def __init__(self):\n",
    "        self.ordinal_encoder = OrdinalEncoder()\n",
    "        \n",
    "    def fit(self, X, y = None):\n",
    "        \n",
    "        self.ordinal_encoder.fit(X)\n",
    "        return self\n",
    "\n",
    "    def transform(self,X):\n",
    "        return self.ordinal_encoder.transform(X)"
   ]
  },
  {
   "cell_type": "code",
   "execution_count": 7,
   "id": "0988a32b-62e7-43da-aa5e-f47ca543abf3",
   "metadata": {},
   "outputs": [],
   "source": [
    "class DateExtractor(BaseEstimator, TransformerMixin):\n",
    "    def fit(self, X, y=None):\n",
    "        return self\n",
    "\n",
    "    def transform(self,X):\n",
    "        X['date'] = pd.to_datetime(X['date'])\n",
    "        X['year'] = X['date'].dt.year\n",
    "        X['month'] = X['date'].dt.month\n",
    "        X['day'] = X['date'].dt.day\n",
    "        return X[['year','month','day']]               ## should be X[['year','month','day']].values],axis= 1?"
   ]
  },
  {
   "cell_type": "code",
   "execution_count": 8,
   "id": "5b32e279-10f2-427a-a9bd-1e5f11dc1d70",
   "metadata": {},
   "outputs": [],
   "source": [
    "X = df[\n",
    "    [\n",
    "        \"drugName\",\n",
    "        \"condition\",\n",
    "        \"rating\",\n",
    "        \"date\",\n",
    "        \"usefulCount\",\n",
    "        \"rating_category\",\n",
    "        \"review_clean\",\n",
    "        \"review_len\",\n",
    "        \"mean_sentence_len\",\n",
    "        \"word_count\",\n",
    "        \"mean_word_len\",\n",
    "        \"unique_word_count\",\n",
    "        \"sentiment_subjectivity\",\n",
    "        \"sentiment_score\",\n",
    "        \"genuine_positive\",\n",
    "        \"genuine_negative\",\n",
    "        \"genuine_neutral\",\n",
    "    ]\n",
    "]\n",
    "y = df[[\"sentiment_label\"]]"
   ]
  },
  {
   "cell_type": "code",
   "execution_count": 9,
   "id": "36bcf4d7-51b9-4992-a142-6d0beaa58350",
   "metadata": {},
   "outputs": [],
   "source": [
    "# Transfrom each feature\n",
    "df[\"review_clean\"] = df[\"review_clean\"].apply(lambda x: \" \".join(x.split()[:200]))\n",
    "X_text = TextPreprocessor(max_sequence_length=214).fit_transform(df[\"review_clean\"])\n",
    "numerical_cols = [\n",
    "    \"rating\",\n",
    "    \"usefulCount\",\n",
    "    \"review_len\",\n",
    "    \"mean_sentence_len\",\n",
    "    \"word_count\",\n",
    "    \"mean_word_len\",\n",
    "    \"unique_word_count\",\n",
    "    \"sentiment_subjectivity\",\n",
    "    \"sentiment_score\",\n",
    "]\n",
    "X_numerical = NumericalScaler().fit_transform(df[numerical_cols])\n",
    "X_drugName = CategoricalEncoder().fit_transform(df[[\"drugName\"]])\n",
    "X_condition = CategoricalEncoder().fit_transform(df[[\"condition\"]])\n",
    "X_date = DateExtractor().fit_transform(df)"
   ]
  },
  {
   "cell_type": "code",
   "execution_count": 10,
   "id": "57cdb27f-1867-4f63-bf7d-8f9a4e91ee9b",
   "metadata": {},
   "outputs": [],
   "source": [
    "#combine the features\n",
    "X_transformed = np.concatenate([X_text, X_numerical, X_drugName,\n",
    "                                X_condition, X_date], axis=1)"
   ]
  },
  {
   "cell_type": "code",
   "execution_count": 11,
   "id": "768cf371-6528-49c5-99e9-62aedfe69fd0",
   "metadata": {},
   "outputs": [],
   "source": [
    "#encode targe feature\n",
    "sentiment_label_encode = LabelEncoder()\n",
    "y_encode = sentiment_label_encode.fit_transform(df['sentiment_label'])\n"
   ]
  },
  {
   "cell_type": "code",
   "execution_count": 12,
   "id": "f1f71d93-6bfb-40f1-b3f6-a384226123c8",
   "metadata": {},
   "outputs": [],
   "source": [
    "X_train, X_test, y_train, y_test = train_test_split(\n",
    "    X_transformed, y_encode, test_size=0.25, random_state=123\n",
    ")"
   ]
  },
  {
   "cell_type": "code",
   "execution_count": 13,
   "id": "1e3444bc-c4b3-490e-972e-0cd4470e620f",
   "metadata": {},
   "outputs": [
    {
     "name": "stdout",
     "output_type": "stream",
     "text": [
      "Class:0, weight:1.26\n",
      "Class:1, weight:3.15\n",
      "Class:2, weight:0.53\n"
     ]
    }
   ],
   "source": [
    "from sklearn.utils.class_weight import compute_class_weight\n",
    "unique_labels= np.unique(y_train)\n",
    "class_weights = compute_class_weight(class_weight=\"balanced\", classes=unique_labels, y=y_train)\n",
    "class_weight_dict = dict(zip(unique_labels, class_weights))\n",
    "for label, weight in class_weight_dict.items():\n",
    "    print(f'Class:{label}, weight:{weight:.2f}')"
   ]
  },
  {
   "cell_type": "markdown",
   "id": "52b6791a-4246-4d17-8361-6d75b5adeb99",
   "metadata": {},
   "source": [
    "There weight for postive sentiment (class1) is 3.15, for negtive is 0.53(class 2) and for neutral is 1.26(class 0). This imbalance will be addressed during modeling."
   ]
  },
  {
   "cell_type": "markdown",
   "id": "ff3b2246-dfda-42d0-8914-cbdde93e7122",
   "metadata": {},
   "source": [
    "# Modeling"
   ]
  },
  {
   "cell_type": "markdown",
   "id": "c387d20e-83e2-433e-a067-42b87727b423",
   "metadata": {},
   "source": [
    "\n",
    "The objective of the model is to predict sentiment accurately while mitigating bias. The datased isimbalanced with more positve sentiments. Employiing accuracy as the primary metric may lead to misleading conclusiions. To avoid this.  The F1 score will serve as the principle metric. Meanwhile, metrics such as traning time, preciison, recall and accuracy scale for each model will be recored. The chosen model will ideally strikes a balance between predictive performance, computational efficiency and the ability to capture sentiment in drug review.\n",
    "\n",
    "Three models will be exlpored in this sentiment analysis task:\n",
    "\n",
    "1. Multinomial Naive Bayes(MNB)\n",
    "   it is a probalilistic classification algorithm based on Bayes therem and it is widely used in processing text data.  it assumes independence between features. the simlicity and efficiency make it a great baseline model for text based sentiment analysis taks.\n",
    "\n",
    "2. Long short term memory(LSTM)\n",
    "  This is a type of recurrent neural network RNN designed for sequential data propressing. For sentiment analysis, LSTM excels   in capturing dependencies and nuances in text information over extended sequences. Its abaility to retain and forget information  makes it well suited for tasks  where context plays a crucial role, e.g undersing sentiment in long text.\n",
    "3. Random Forest (RF)\n",
    "   It is an effective ensemble learning method in classification. It can provide feature importances, which can help extend the understanding  of model process."
   ]
  },
  {
   "cell_type": "markdown",
   "id": "679a7274-c9b5-43e3-b584-6ea9d78092d3",
   "metadata": {},
   "source": [
    "## Model Metrics Comparision"
   ]
  },
  {
   "cell_type": "code",
   "execution_count": 14,
   "id": "e13081e8-a269-431d-952c-340b7becbfe6",
   "metadata": {},
   "outputs": [],
   "source": [
    "metrics_list =[]\n",
    "pd.DataFrame(columns = ['model', 'accuracy', 'precision','recall','F1 score'])\n",
    "\n",
    "def model_metrics(model, y_true, y_pred, best_params = None):\n",
    "    f1 = f1_score(y_true, y_pred, average=\"macro\")\n",
    "    accuracy = accuracy_score(y_true, y_pred)\n",
    "    precision = precision_score(y_true, y_pred, average=\"macro\")\n",
    "    recall = recall_score(y_true, y_pred, average=\"macro\")\n",
    "    print(f\"\\n model performance:\")\n",
    "    if best_params:\n",
    "        print(f\"Best hyperparameters: {best_params}\")\n",
    "    print(f\"Accuracy: {accuracy:.4f}\")\n",
    "    print(f\"Precision: {precision:.4f}\")\n",
    "    print(f\"Recall: {recall:.4f}\")\n",
    "    print(f\"F1-score: {f1:.4f}\")\n",
    "\n",
    "\n",
    "    \n",
    "    metrics_list.append({'model': model,\n",
    "                                'accuracy':accuracy,\n",
    "                                'precision': precision,\n",
    "                                'recall': recall,\n",
    "                                'F1-score':f1,\n",
    "                                })\n",
    "\n",
    "    print(f'\\n {model} Classification Report:')\n",
    "    print(classification_report(y_true, y_pred))\n",
    "   \n",
    "    \"\"\"plot comfusion matrix\"\"\"\n",
    "    cm = confusion_matrix(y_test, y_pred)\n",
    "    plt.figure(figsize=(15, 6))\n",
    "    sns.heatmap(\n",
    "        cm,\n",
    "        annot=True,\n",
    "        cmap=\"Blues\",\n",
    "        xticklabels=[\"class 0 neutral\", \"class 1 positive\", \"class 2 negative\"],\n",
    "        yticklabels=[\"class 0\", \"class 1\", \"class 2\"],\n",
    "    )\n",
    "    plt.xlabel(\"predicted Labels\")\n",
    "    plt.ylabel(\"actual labels\")\n",
    "    plt.title(f\"confusion matrix \")\n",
    "    plt.show()\n",
    "\n",
    "    "
   ]
  },
  {
   "cell_type": "markdown",
   "id": "ce5a969b-6a08-4071-ade0-c161fee5f6aa",
   "metadata": {},
   "source": [
    "## Multinomial Naive Bayes Model (MNB)"
   ]
  },
  {
   "cell_type": "code",
   "execution_count": 15,
   "id": "e805c23d-fcbe-4124-a760-17442eeb80c8",
   "metadata": {},
   "outputs": [
    {
     "name": "stdout",
     "output_type": "stream",
     "text": [
      "MNB Start Time 01:54:27\n",
      "Fitting 5 folds for each of 10 candidates, totalling 50 fits\n",
      "MNB End Time = 01:54:34\n"
     ]
    }
   ],
   "source": [
    "mnb_model = MultinomialNB()\n",
    "mnb_param_grid = {'alpha': [0.01, 0.1, 0.5, 1.0, 10.0, ],\n",
    "          'fit_prior': [True, False]\n",
    "         }\n",
    "mnb_grid = RandomizedSearchCV(mnb_model, param_distributions=mnb_param_grid, n_jobs=-1, cv=5, verbose=1)\n",
    "\n",
    "print(\"MNB Start Time\", datetime.now().strftime(\"%H:%M:%S\"))\n",
    "mnb_grid.fit(X_train,y_train)\n",
    "print(\"MNB End Time =\", datetime.now().strftime(\"%H:%M:%S\"))\n"
   ]
  },
  {
   "cell_type": "markdown",
   "id": "a40005e6-a02b-4025-aa50-9322e93c5bfd",
   "metadata": {},
   "source": [
    "MNB shows a fast training time."
   ]
  },
  {
   "cell_type": "code",
   "execution_count": 16,
   "id": "b8f5bbad-5cfb-4cea-bcce-006912ee11fb",
   "metadata": {},
   "outputs": [],
   "source": [
    "best_mnb_params = mnb_grid.best_params_\n",
    "y_mnb_pred = mnb_grid.best_estimator_.predict(X_test)"
   ]
  },
  {
   "cell_type": "code",
   "execution_count": 17,
   "id": "f617a55a-0258-40a8-9214-9658c5a0602e",
   "metadata": {},
   "outputs": [
    {
     "name": "stdout",
     "output_type": "stream",
     "text": [
      "\n",
      " model performance:\n",
      "Best hyperparameters: {'fit_prior': True, 'alpha': 10.0}\n",
      "Accuracy: 0.3688\n",
      "Precision: 0.3993\n",
      "Recall: 0.4997\n",
      "F1-score: 0.3512\n",
      "\n",
      " MultinomialNB(alpha=10.0) Classification Report:\n",
      "              precision    recall  f1-score   support\n",
      "\n",
      "           0       0.29      0.27      0.28      8321\n",
      "           1       0.21      0.91      0.33      3384\n",
      "           2       0.70      0.32      0.44     20292\n",
      "\n",
      "    accuracy                           0.37     31997\n",
      "   macro avg       0.40      0.50      0.35     31997\n",
      "weighted avg       0.54      0.37      0.39     31997\n",
      "\n"
     ]
    },
    {
     "data": {
      "image/png": "[encoded data removed]",
      "text/plain": [
       "<Figure size 1500x600 with 2 Axes>"
      ]
     },
     "metadata": {},
     "output_type": "display_data"
    }
   ],
   "source": [
    "model_metrics(mnb_grid.best_estimator_, y_test, y_mnb_pred, best_mnb_params)"
   ]
  },
  {
   "cell_type": "markdown",
   "id": "4f801939",
   "metadata": {},
   "source": [
    "## Random Forest Model"
   ]
  },
  {
   "cell_type": "code",
   "execution_count": 30,
   "id": "2fb3b081",
   "metadata": {},
   "outputs": [],
   "source": [
    "# subset X_train, y_train to faster training and debug\n",
    "# Use stratified sampling to create a representative subset\n",
    "X_train_subset, _, y_train_subset, _ = train_test_split(\n",
    "    X_train, y_train, test_size=0.1, stratify=y_train, random_state=42)"
   ]
  },
  {
   "cell_type": "code",
   "execution_count": 32,
   "id": "808a3a9b",
   "metadata": {},
   "outputs": [
    {
     "name": "stdout",
     "output_type": "stream",
     "text": [
      "Start Time = 02:18:21\n",
      "Fitting 2 folds for each of 36 candidates, totalling 72 fits\n"
     ]
    },
    {
     "name": "stderr",
     "output_type": "stream",
     "text": [
      "C:\\ProgramData\\anaconda3\\envs\\Capstone_Three_Project\\Lib\\site-packages\\sklearn\\model_selection\\_search.py:305: UserWarning: The total space of parameters 36 is smaller than n_iter=100. Running 36 iterations. For exhaustive searches, use GridSearchCV.\n",
      "  warnings.warn(\n"
     ]
    },
    {
     "name": "stdout",
     "output_type": "stream",
     "text": [
      "End Time = 02:18:33\n"
     ]
    }
   ],
   "source": [
    "rf = RandomForestRegressor()\n",
    "random_grid = {\n",
    "               'max_depth': [5, 10,20],\n",
    "               'max_features': ['log2','sqrt', None],\n",
    "               'min_samples_leaf': [4, 8],\n",
    "               'n_estimators': [25, 50]}\n",
    "\n",
    "rf_random = RandomizedSearchCV(estimator = rf, param_distributions = random_grid, n_iter = 100, cv = 2, verbose=2, random_state=42, n_jobs = -1)\n",
    "# Fit the random search model\n",
    "\n",
    "from datetime import datetime\n",
    "print(\"Start Time =\", datetime.now().strftime(\"%H:%M:%S\"))\n",
    "rf_random_result = rf_random.fit(\n",
    "    X_train_subset, y_train_subset\n",
    ")\n",
    "print(\"End Time =\", datetime.now().strftime(\"%H:%M:%S\"))"
   ]
  },
  {
   "cell_type": "code",
   "execution_count": 35,
   "id": "8d207a61",
   "metadata": {},
   "outputs": [
    {
     "name": "stdout",
     "output_type": "stream",
     "text": [
      "(3199, 214)\n",
      "(3199,)\n"
     ]
    }
   ],
   "source": [
    "print(X_test_subset.shape)\n",
    "print(y_test_subset.shape)"
   ]
  },
  {
   "cell_type": "code",
   "execution_count": 33,
   "id": "a8083a11",
   "metadata": {},
   "outputs": [
    {
     "name": "stdout",
     "output_type": "stream",
     "text": [
      "\n",
      " model performance:\n",
      "Best hyperparameters: {'n_estimators': 25, 'min_samples_leaf': 8, 'max_features': None, 'max_depth': 10}\n",
      "Accuracy: 0.9969\n",
      "Precision: 0.9900\n",
      "Recall: 0.9979\n",
      "F1-score: 0.9939\n",
      "\n",
      " RandomForestRegressor(max_depth=10, max_features=None, min_samples_leaf=8,\n",
      "                      n_estimators=25) Classification Report:\n",
      "              precision    recall  f1-score   support\n",
      "\n",
      "           0       1.00      1.00      1.00       828\n",
      "           1       0.97      1.00      0.98       325\n",
      "           2       1.00      1.00      1.00      2046\n",
      "\n",
      "    accuracy                           1.00      3199\n",
      "   macro avg       0.99      1.00      0.99      3199\n",
      "weighted avg       1.00      1.00      1.00      3199\n",
      "\n"
     ]
    },
    {
     "ename": "ValueError",
     "evalue": "Found input variables with inconsistent numbers of samples: [31997, 3199]",
     "output_type": "error",
     "traceback": [
      "\u001b[1;31m---------------------------------------------------------------------------\u001b[0m",
      "\u001b[1;31mValueError\u001b[0m                                Traceback (most recent call last)",
      "Cell \u001b[1;32mIn[33], line 5\u001b[0m\n\u001b[0;32m      2\u001b[0m best_rf_model \u001b[38;5;241m=\u001b[39m rf_random\u001b[38;5;241m.\u001b[39mbest_estimator_\n\u001b[0;32m      4\u001b[0m y_rf_pred \u001b[38;5;241m=\u001b[39m best_rf_model\u001b[38;5;241m.\u001b[39mpredict(X_test_subset)\u001b[38;5;241m.\u001b[39mround() \n\u001b[1;32m----> 5\u001b[0m model_metrics(best_rf_model, y_test_subset, y_rf_pred, best_rf_params)\n",
      "Cell \u001b[1;32mIn[14], line 30\u001b[0m, in \u001b[0;36mmodel_metrics\u001b[1;34m(model, y_true, y_pred, best_params)\u001b[0m\n\u001b[0;32m     27\u001b[0m \u001b[38;5;28mprint\u001b[39m(classification_report(y_true, y_pred))\n\u001b[0;32m     29\u001b[0m \u001b[38;5;250m\u001b[39m\u001b[38;5;124;03m\"\"\"plot comfusion matrix\"\"\"\u001b[39;00m\n\u001b[1;32m---> 30\u001b[0m cm \u001b[38;5;241m=\u001b[39m confusion_matrix(y_test, y_pred)\n\u001b[0;32m     31\u001b[0m plt\u001b[38;5;241m.\u001b[39mfigure(figsize\u001b[38;5;241m=\u001b[39m(\u001b[38;5;241m15\u001b[39m, \u001b[38;5;241m6\u001b[39m))\n\u001b[0;32m     32\u001b[0m sns\u001b[38;5;241m.\u001b[39mheatmap(\n\u001b[0;32m     33\u001b[0m     cm,\n\u001b[0;32m     34\u001b[0m     annot\u001b[38;5;241m=\u001b[39m\u001b[38;5;28;01mTrue\u001b[39;00m,\n\u001b[1;32m   (...)\u001b[0m\n\u001b[0;32m     37\u001b[0m     yticklabels\u001b[38;5;241m=\u001b[39m[\u001b[38;5;124m\"\u001b[39m\u001b[38;5;124mclass 0\u001b[39m\u001b[38;5;124m\"\u001b[39m, \u001b[38;5;124m\"\u001b[39m\u001b[38;5;124mclass 1\u001b[39m\u001b[38;5;124m\"\u001b[39m, \u001b[38;5;124m\"\u001b[39m\u001b[38;5;124mclass 2\u001b[39m\u001b[38;5;124m\"\u001b[39m],\n\u001b[0;32m     38\u001b[0m )\n",
      "File \u001b[1;32mC:\\ProgramData\\anaconda3\\envs\\Capstone_Three_Project\\Lib\\site-packages\\sklearn\\metrics\\_classification.py:317\u001b[0m, in \u001b[0;36mconfusion_matrix\u001b[1;34m(y_true, y_pred, labels, sample_weight, normalize)\u001b[0m\n\u001b[0;32m    232\u001b[0m \u001b[38;5;28;01mdef\u001b[39;00m \u001b[38;5;21mconfusion_matrix\u001b[39m(\n\u001b[0;32m    233\u001b[0m     y_true, y_pred, \u001b[38;5;241m*\u001b[39m, labels\u001b[38;5;241m=\u001b[39m\u001b[38;5;28;01mNone\u001b[39;00m, sample_weight\u001b[38;5;241m=\u001b[39m\u001b[38;5;28;01mNone\u001b[39;00m, normalize\u001b[38;5;241m=\u001b[39m\u001b[38;5;28;01mNone\u001b[39;00m\n\u001b[0;32m    234\u001b[0m ):\n\u001b[0;32m    235\u001b[0m \u001b[38;5;250m    \u001b[39m\u001b[38;5;124;03m\"\"\"Compute confusion matrix to evaluate the accuracy of a classification.\u001b[39;00m\n\u001b[0;32m    236\u001b[0m \n\u001b[0;32m    237\u001b[0m \u001b[38;5;124;03m    By definition a confusion matrix :math:`C` is such that :math:`C_{i, j}`\u001b[39;00m\n\u001b[1;32m   (...)\u001b[0m\n\u001b[0;32m    315\u001b[0m \u001b[38;5;124;03m    (0, 2, 1, 1)\u001b[39;00m\n\u001b[0;32m    316\u001b[0m \u001b[38;5;124;03m    \"\"\"\u001b[39;00m\n\u001b[1;32m--> 317\u001b[0m     y_type, y_true, y_pred \u001b[38;5;241m=\u001b[39m _check_targets(y_true, y_pred)\n\u001b[0;32m    318\u001b[0m     \u001b[38;5;28;01mif\u001b[39;00m y_type \u001b[38;5;129;01mnot\u001b[39;00m \u001b[38;5;129;01min\u001b[39;00m (\u001b[38;5;124m\"\u001b[39m\u001b[38;5;124mbinary\u001b[39m\u001b[38;5;124m\"\u001b[39m, \u001b[38;5;124m\"\u001b[39m\u001b[38;5;124mmulticlass\u001b[39m\u001b[38;5;124m\"\u001b[39m):\n\u001b[0;32m    319\u001b[0m         \u001b[38;5;28;01mraise\u001b[39;00m \u001b[38;5;167;01mValueError\u001b[39;00m(\u001b[38;5;124m\"\u001b[39m\u001b[38;5;132;01m%s\u001b[39;00m\u001b[38;5;124m is not supported\u001b[39m\u001b[38;5;124m\"\u001b[39m \u001b[38;5;241m%\u001b[39m y_type)\n",
      "File \u001b[1;32mC:\\ProgramData\\anaconda3\\envs\\Capstone_Three_Project\\Lib\\site-packages\\sklearn\\metrics\\_classification.py:86\u001b[0m, in \u001b[0;36m_check_targets\u001b[1;34m(y_true, y_pred)\u001b[0m\n\u001b[0;32m     59\u001b[0m \u001b[38;5;28;01mdef\u001b[39;00m \u001b[38;5;21m_check_targets\u001b[39m(y_true, y_pred):\n\u001b[0;32m     60\u001b[0m \u001b[38;5;250m    \u001b[39m\u001b[38;5;124;03m\"\"\"Check that y_true and y_pred belong to the same classification task.\u001b[39;00m\n\u001b[0;32m     61\u001b[0m \n\u001b[0;32m     62\u001b[0m \u001b[38;5;124;03m    This converts multiclass or binary types to a common shape, and raises a\u001b[39;00m\n\u001b[1;32m   (...)\u001b[0m\n\u001b[0;32m     84\u001b[0m \u001b[38;5;124;03m    y_pred : array or indicator matrix\u001b[39;00m\n\u001b[0;32m     85\u001b[0m \u001b[38;5;124;03m    \"\"\"\u001b[39;00m\n\u001b[1;32m---> 86\u001b[0m     check_consistent_length(y_true, y_pred)\n\u001b[0;32m     87\u001b[0m     type_true \u001b[38;5;241m=\u001b[39m type_of_target(y_true, input_name\u001b[38;5;241m=\u001b[39m\u001b[38;5;124m\"\u001b[39m\u001b[38;5;124my_true\u001b[39m\u001b[38;5;124m\"\u001b[39m)\n\u001b[0;32m     88\u001b[0m     type_pred \u001b[38;5;241m=\u001b[39m type_of_target(y_pred, input_name\u001b[38;5;241m=\u001b[39m\u001b[38;5;124m\"\u001b[39m\u001b[38;5;124my_pred\u001b[39m\u001b[38;5;124m\"\u001b[39m)\n",
      "File \u001b[1;32mC:\\ProgramData\\anaconda3\\envs\\Capstone_Three_Project\\Lib\\site-packages\\sklearn\\utils\\validation.py:397\u001b[0m, in \u001b[0;36mcheck_consistent_length\u001b[1;34m(*arrays)\u001b[0m\n\u001b[0;32m    395\u001b[0m uniques \u001b[38;5;241m=\u001b[39m np\u001b[38;5;241m.\u001b[39munique(lengths)\n\u001b[0;32m    396\u001b[0m \u001b[38;5;28;01mif\u001b[39;00m \u001b[38;5;28mlen\u001b[39m(uniques) \u001b[38;5;241m>\u001b[39m \u001b[38;5;241m1\u001b[39m:\n\u001b[1;32m--> 397\u001b[0m     \u001b[38;5;28;01mraise\u001b[39;00m \u001b[38;5;167;01mValueError\u001b[39;00m(\n\u001b[0;32m    398\u001b[0m         \u001b[38;5;124m\"\u001b[39m\u001b[38;5;124mFound input variables with inconsistent numbers of samples: \u001b[39m\u001b[38;5;132;01m%r\u001b[39;00m\u001b[38;5;124m\"\u001b[39m\n\u001b[0;32m    399\u001b[0m         \u001b[38;5;241m%\u001b[39m [\u001b[38;5;28mint\u001b[39m(l) \u001b[38;5;28;01mfor\u001b[39;00m l \u001b[38;5;129;01min\u001b[39;00m lengths]\n\u001b[0;32m    400\u001b[0m     )\n",
      "\u001b[1;31mValueError\u001b[0m: Found input variables with inconsistent numbers of samples: [31997, 3199]"
     ]
    }
   ],
   "source": [
    "best_rf_params = rf_random.best_params_\n",
    "best_rf_model = rf_random.best_estimator_\n",
    "\n",
    "y_rf_pred = best_rf_model.predict(X_test_subset).round() \n",
    "model_metrics(best_rf_model, y_test_subset, y_rf_pred, best_rf_params)"
   ]
  },
  {
   "cell_type": "code",
   "execution_count": 34,
   "id": "41a3fe25",
   "metadata": {},
   "outputs": [
    {
     "name": "stdout",
     "output_type": "stream",
     "text": [
      "Feature 208: 0.9986\n",
      "Feature 207: 0.0004\n",
      "Feature 187: 0.0001\n",
      "Feature 188: 0.0001\n",
      "Feature 142: 0.0001\n",
      "Feature 192: 0.0001\n",
      "Feature 172: 0.0001\n",
      "Feature 195: 0.0000\n",
      "Feature 198: 0.0000\n",
      "Feature 171: 0.0000\n"
     ]
    }
   ],
   "source": [
    "importances = best_rf_model.feature_importances_\n",
    "indices = importances.argsort()[::-1]\n",
    "for i in range(10):\n",
    "    print(f\"Feature {indices[i]}: {importances[indices[i]]:.4f}\")\n"
   ]
  },
  {
   "cell_type": "code",
   "execution_count": null,
   "id": "939dd379",
   "metadata": {},
   "outputs": [],
   "source": [
    "feature_names = [f\"feature {i}\" for i in range(X_transformed.shape[1])]\n",
    "len(feature_names)"
   ]
  },
  {
   "cell_type": "code",
   "execution_count": null,
   "id": "6597bdaa",
   "metadata": {},
   "outputs": [],
   "source": [
    "forest_importances = pd.Series(importances, index=feature_names)\n",
    "\n",
    "fig, ax = plt.subplots()\n",
    "forest_importances.plot.bar( ax=ax)\n",
    "ax.set_title(\"Feature importances\")\n",
    "ax.set_ylabel(\"Mean decrease in impurity\")\n",
    "fig.tight_layout()"
   ]
  },
  {
   "cell_type": "markdown",
   "id": "a78e1d3a-a5ea-4576-a6fb-e99311430086",
   "metadata": {},
   "source": [
    "## LSTM model"
   ]
  },
  {
   "cell_type": "code",
   "execution_count": null,
   "id": "60c95932-98d1-4183-b46d-c280c17455e4",
   "metadata": {},
   "outputs": [],
   "source": [
    "def create_lstm_model(dropout_rate=0, epochs=5, batch_size=32):\n",
    "    lstm_model = tf.keras.models.Sequential()\n",
    "    lstm_model.add(Embedding(input_dim=5000, output_dim=32, input_length=214))\n",
    "    lstm_model.add(LSTM(100))\n",
    "    lstm_model.add(Dropout(0.2))\n",
    "    lstm_model.add(Dense(3, activation=\"softmax\"))\n",
    "    lstm_model.compile(\n",
    "        loss=\"sparse_categorical_crossentropy\", optimizer=\"adam\", metrics=[\"accuracy\"]\n",
    "    )\n",
    "    lstm_model.summary()\n",
    "    return lstm_model"
   ]
  },
  {
   "cell_type": "code",
   "execution_count": null,
   "id": "9b464245-ffc3-441f-9143-e5e64f5c2d60",
   "metadata": {},
   "outputs": [],
   "source": [
    "# # add callback to get training and validation metrics for each epoch\n",
    "# from tensorflow.keras.callbacks import Callback\n",
    "\n",
    "# class LossAccCallback(Callback):\n",
    "#     def __init__(self):\n",
    "#         self.losses = []\n",
    "#         self.accuracy = []\n",
    "#         self.val_losses = []\n",
    "#         self.val_accuracy = []\n",
    "\n",
    "#     def on_epoch_end(self, epoch, logs=None):\n",
    "#         self.losses.append(logs[\"loss\"])\n",
    "#         self.accuracy.append(logs[\"accuracy\"])\n",
    "#         self.val_losses = logs.get(\"val_loss\", None)\n",
    "#         self.val_accuracy = logs.get(\"val_accuracy\", None)\n",
    "#         if \"val_loss\" and 'val_accuracy' in logs:\n",
    "#             self.val_losses.append(logs[val_loss])\n",
    "#             self.val_accuracy.append(logs[val_accuracy])\n",
    "\n",
    "#     def plot_metrics(self):\n",
    "#         epochs = np.arange(1, len(self.losses) + 1)\n",
    "#         plt.figure(figsize=(10, 8))\n",
    "\n",
    "#         print(len(self.val_losses))\n",
    "#         print(len(self.losses))\n",
    "#         print(len(self.val_accuracy))\n",
    "#         print(len(self.accuracy))\n",
    "        \n",
    "#         plt.subplot(1, 2, 1)\n",
    "#         plt.plot(epochs, self.val_losses, label=\"validation loss\")\n",
    "#         plt.plot(epochs, self.losses, label ='training loss')\n",
    "#         plt.title(\"Training and Validation Loss\")\n",
    "#         plt.legend()\n",
    "\n",
    "#         plt.subplot(1, 2, 2)\n",
    "#         plt.plot(epochs, self.val_accuracy, label=\"validation accuracy\")\n",
    "#         plt.plot(epochs, self.accuracy, label ='training accuracy')\n",
    "#         plt.title(\"Training and Validation Accuracy\")\n",
    "#         plt.xlabel(\"Epochs\")\n",
    "#         plt.ylabel(\"Accuracy\")\n",
    "#         plt.legend()\n",
    "\n",
    "#         plt.tight_layout()\n",
    "#         plt.show()"
   ]
  },
  {
   "cell_type": "code",
   "execution_count": null,
   "id": "e6ee88cc",
   "metadata": {},
   "outputs": [],
   "source": [
    "# from tensorflow.keras.callbacks import Callback\n",
    "# class LossAccCallback(Callback):\n",
    "    \n",
    "#     def __init__(self):\n",
    "#         self.losses = []\n",
    "        \n",
    "\n",
    "#     def on_epoch_end(self, epoch, logs={}):\n",
    "#         self.losses.append(logs.get('loss'))\n",
    "#         plt.plot(self.losses)\n",
    "#         plt.xlabel('Epoch')\n",
    "#         plt.ylabel('Loss')\n",
    "#         plt.title('Training Loss')\n",
    "#         plt.show()"
   ]
  },
  {
   "cell_type": "code",
   "execution_count": null,
   "id": "89d09f5a",
   "metadata": {},
   "outputs": [],
   "source": [
    "# loss_history_callback = LossAccCallback()"
   ]
  },
  {
   "cell_type": "code",
   "execution_count": null,
   "id": "f16ee574-df63-4b43-acd9-686a62927f73",
   "metadata": {},
   "outputs": [],
   "source": [
    "kfold = StratifiedKFold(n_splits=3, shuffle=True, random_state=123)\n",
    "lstm_model = KerasClassifier(\n",
    "    model=create_lstm_model, dropout_rate=None, epochs=1, batch_size=None, verbose=1, callbacks=[loss_history_callback]\n",
    ")"
   ]
  },
  {
   "cell_type": "code",
   "execution_count": null,
   "id": "5f25dd9d-7722-42d0-9b23-093a82581357",
   "metadata": {},
   "outputs": [],
   "source": [
    "# param_grids = {\n",
    "#     'dropout_rate': [0.0, 0.2, ],\n",
    "#     'epochs': [5,10],\n",
    "#     'batch_size': [32, 64]\n",
    "# }"
   ]
  },
  {
   "cell_type": "code",
   "execution_count": null,
   "id": "149974c0-29ed-44c3-9b94-a1c865393037",
   "metadata": {},
   "outputs": [],
   "source": [
    "param_grids = {\n",
    "    'dropout_rate': [0.0],\n",
    "    'epochs': [3],\n",
    "    'batch_size': [32],\n",
    "    'class_weight': [class_weight_dict]\n",
    "}"
   ]
  },
  {
   "cell_type": "code",
   "execution_count": null,
   "id": "c51becf2-e6eb-4b67-90f7-2cc817a4566e",
   "metadata": {},
   "outputs": [],
   "source": [
    "from sklearn.metrics import make_scorer\n",
    "kfold = StratifiedKFold(n_splits=2, shuffle=True, random_state=123)\n",
    "scorers = {\n",
    "            'f1_score': make_scorer(f1_score, average='macro'),\n",
    "            'precision_score': make_scorer(precision_score, average='macro'),\n",
    "            'recall_score': make_scorer(recall_score, average='macro'),\n",
    "            'accuracy_score': make_scorer(accuracy_score)\n",
    "          }\n",
    "lstm_grid = RandomizedSearchCV(\n",
    "    estimator=lstm_model,\n",
    "    param_distributions=param_grids,\n",
    "    cv=kfold,\n",
    "    scoring = scorers,\n",
    "    verbose=1, error_score='raise',n_jobs=-1, refit='f1_score'\n",
    ")"
   ]
  },
  {
   "cell_type": "code",
   "execution_count": null,
   "id": "c194f456",
   "metadata": {},
   "outputs": [],
   "source": [
    "from datetime import datetime\n",
    "print(\"Start Time =\", datetime.now().strftime(\"%H:%M:%S\"))\n",
    "lstm_grid_result = lstm_grid.fit(\n",
    "    X_train, y_train, batch_size=None,\n",
    "    epochs=3,\n",
    "    verbose=1,\n",
    "   \n",
    ")\n",
    "print(\"End Time =\", datetime.now().strftime(\"%H:%M:%S\"))"
   ]
  },
  {
   "cell_type": "code",
   "execution_count": null,
   "id": "98927395",
   "metadata": {},
   "outputs": [],
   "source": []
  },
  {
   "cell_type": "code",
   "execution_count": null,
   "id": "8e65fc0c-bdf8-421b-9d8e-b7a95c593195",
   "metadata": {
    "scrolled": true
   },
   "outputs": [],
   "source": [
    "# from datetime import datetime\n",
    "# print(\"Start Time =\", datetime.now().strftime(\"%H:%M:%S\"))\n",
    "# lstm_grid_result = lstm_grid.fit(\n",
    "#     X_train, y_train, batch_size=None,\n",
    "#     epochs=3,\n",
    "#     verbose=1,\n",
    "#     callbacks=[LossAccCallback()],\n",
    "# )\n",
    "# print(\"End Time =\", datetime.now().strftime(\"%H:%M:%S\"))"
   ]
  },
  {
   "cell_type": "code",
   "execution_count": null,
   "id": "785fd4cc-b033-4966-aebc-238ebe521e7e",
   "metadata": {},
   "outputs": [],
   "source": [
    "# callback = LossAccCallback()\n",
    "# callback.plot_metrics()"
   ]
  },
  {
   "cell_type": "code",
   "execution_count": null,
   "id": "1ed9c7fd-bc21-4ea0-b7c7-a97b3caa20e3",
   "metadata": {},
   "outputs": [],
   "source": [
    "best_lstm_params = lstm_grid.best_params_\n",
    "best_lstm_model = lstm_grid.best_estimator_\n",
    "y_lstm_pred = best_lstm_model.predict(X_test)\n",
    "model_metrics(best_lstm_model, y_test, y_lstm_pred, best_lstm_params)"
   ]
  },
  {
   "cell_type": "code",
   "execution_count": null,
   "id": "15f1f36e",
   "metadata": {},
   "outputs": [],
   "source": [
    "best_lstm_model.keys()"
   ]
  },
  {
   "cell_type": "code",
   "execution_count": null,
   "id": "0fa36ce6",
   "metadata": {},
   "outputs": [],
   "source": [
    "training_loss = best_lstm_model.histroy['loss']"
   ]
  },
  {
   "cell_type": "markdown",
   "id": "d1d92bab-f402-4326-8308-7a28955b6e83",
   "metadata": {},
   "source": [
    "# Save The Best Model"
   ]
  },
  {
   "cell_type": "code",
   "execution_count": null,
   "id": "b8add999-fd74-4cc7-910f-b23c400f5cb0",
   "metadata": {},
   "outputs": [],
   "source": [
    "import joblib"
   ]
  },
  {
   "cell_type": "code",
   "execution_count": null,
   "id": "c53ac135-8b6d-4b9b-9098-9bd6dd83ff88",
   "metadata": {},
   "outputs": [],
   "source": [
    "best_lstm_model = lstm_grid_result.best_estimator_\n",
    "joblib.dump(best_lstm_model, '../Desktop/Capstone_Three_Project/models/best_lstm_model.joblib')"
   ]
  },
  {
   "cell_type": "code",
   "execution_count": null,
   "id": "95118cff-ff26-4a4d-9882-12b062786755",
   "metadata": {},
   "outputs": [],
   "source": [
    "load_model = joblib.load('best_lstm_model.joblib')"
   ]
  },
  {
   "cell_type": "markdown",
   "id": "772c7278-5a4b-40bc-bc97-5246c940bd66",
   "metadata": {},
   "source": [
    "# Summary"
   ]
  },
  {
   "cell_type": "raw",
   "id": "6a18f1b2-fb7e-49d8-92bc-eee74b286f2b",
   "metadata": {},
   "source": [
    "To build a drug sentiment analysis model, the following preprocessing and model steps were performed:\n",
    "1. Text Tokenization: the 'review' text column was tokenized to break down sentences into individual wrds for analysis. To avoid overfit and reduce training time, only the first 200 word in each review column were used.\n",
    "2. Categorical features ('drugName','condition') encoding. One hot encoding was applied and convert them into a sutable ofrmat for modeling.\n",
    "3. Date feature extraction: 'date', 'year','month' were extracted from the 'date';\n",
    "4. Sentiment encoding: the target feature sentiment was encoded and three sentiment classes were created.\n",
    "5. Numterical featureing scaling: using MinMaxScaler to standardize the range of values.\n",
    "4. Train_test split: The dataset was split into train (0.75), and test(0.25).\n",
    "5. Model exploration: Three models were explored (Multinomial Naive Bayes(MNB), Long Short-Term Memory (LSTM), and Random Forest(RF))\n",
    "6. Model Evaluation: The tuning model performances were assessed. LSTM emerged as the top performing model with F1 scores reach to over 0.95, and with moderate training time (~5.5 hours).\n",
    "7. Futrue work: The feature importances were not investigated thoroughly. Futre worrk may invole exploring feature importances to gain insigts into  significance fo differenct feature in predicting durg enstiments."
   ]
  },
  {
   "cell_type": "code",
   "execution_count": null,
   "id": "48a3400e-62a1-4890-b454-7cc2676b7acb",
   "metadata": {},
   "outputs": [],
   "source": []
  }
 ],
 "metadata": {
  "kernelspec": {
   "display_name": "Capstone_Three_Project",
   "language": "python",
   "name": "myenv"
  },
  "language_info": {
   "codemirror_mode": {
    "name": "ipython",
    "version": 3
   },
   "file_extension": ".py",
   "mimetype": "text/x-python",
   "name": "python",
   "nbconvert_exporter": "python",
   "pygments_lexer": "ipython3",
   "version": "3.11.7"
  }
 },
 "nbformat": 4,
 "nbformat_minor": 5
}
