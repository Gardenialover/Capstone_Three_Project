{
 "cells": [
  {
   "cell_type": "markdown",
   "id": "f5d4961c-c10e-492e-b272-8c062e9ef672",
   "metadata": {},
   "source": [
    "# Import Related Modules"
   ]
  },
  {
   "cell_type": "code",
   "execution_count": 10,
   "id": "08277cdf-4fd9-4ecd-96e1-0620524bb506",
   "metadata": {},
   "outputs": [],
   "source": [
    "import pandas as pd\n",
    "import numpy as np\n",
    "\n",
    "import matplotlib.pyplot as plt\n",
    "import seaborn as sns\n",
    "import os\n",
    "import re\n",
    "from __future__ import print_function\n",
    "\n",
    "import string\n",
    "import spacy\n",
    "import nltk\n",
    "import re\n",
    "from nltk.tokenize import word_tokenize\n",
    "from sklearn.model_selection import train_test_split\n",
    "from sklearn.preprocessing import MinMaxScaler, LabelEncoder\n",
    "from keras.preprocessing.text import Tokenizer\n",
    "from keras.preprocessing.sequence import pad_sequences\n",
    "from keras.models import Sequential\n",
    "from keras.layers import Embedding, LSTM, Dense"
   ]
  },
  {
   "cell_type": "markdown",
   "id": "e5c8cd6f-39ff-4e8a-a267-dbe6fb0f319c",
   "metadata": {},
   "source": [
    "# Load Data"
   ]
  },
  {
   "cell_type": "code",
   "execution_count": 3,
   "id": "530b3c43-3937-422d-a47e-1cde7b97251e",
   "metadata": {},
   "outputs": [],
   "source": [
    "df = pd.read_csv('../data/processed/drug_review_clean.csv', index_col= False)"
   ]
  },
  {
   "cell_type": "code",
   "execution_count": 4,
   "id": "c5cd5926-2119-4103-bd95-63eddcfe4e25",
   "metadata": {
    "scrolled": true
   },
   "outputs": [
    {
     "data": {
      "text/plain": [
       "Index(['id', 'drugName', 'condition', 'rating', 'date', 'usefulCount',\n",
       "       'rating_category', 'review_clean', 'review_len', 'mean_sentence_len',\n",
       "       'word_count', 'mean_word_len', 'unique_word_count',\n",
       "       'sentiment_subjectivity', 'sentiment_score', 'sentiment_label',\n",
       "       'genuine_positive', 'genuine_negative', 'genuine_neutral'],\n",
       "      dtype='object')"
      ]
     },
     "execution_count": 4,
     "metadata": {},
     "output_type": "execute_result"
    }
   ],
   "source": [
    "df.columns"
   ]
  },
  {
   "cell_type": "markdown",
   "id": "ef6ea341-bbed-4269-90bc-40a83668af7b",
   "metadata": {},
   "source": [
    "# Preprocess"
   ]
  },
  {
   "cell_type": "markdown",
   "id": "03608766-c045-4b04-af6f-6ea7b334df84",
   "metadata": {},
   "source": [
    "The dataframe contains different types of features: numericals ('mean_word_len','word_count', etc), categorical(eg.'rating_category','condidition','drugName'), and datetime ('date'). Also, The target of 'sentiment_label' is categorimcal. The preprocess including the following steps:\n",
    "1. tokenizer the'review_clean' using keras Tokenizer\n",
    "2. encode the categorical features and target 'sentiment_label'\n",
    "3. extract the 'date' to several new features 'year','month','day'.\n",
    "4. scale the numerical features using MinMaxScaler.\n",
    "5. train test split"
   ]
  },
  {
   "cell_type": "markdown",
   "id": "6e279220-35c8-4fea-90b5-daafc9085a5f",
   "metadata": {},
   "source": [
    "## text feature preprocess"
   ]
  },
  {
   "cell_type": "code",
   "execution_count": 50,
   "id": "f9781902-8451-4f66-941e-9bf89e845f78",
   "metadata": {},
   "outputs": [
    {
     "name": "stdout",
     "output_type": "stream",
     "text": [
      "<class 'list'>\n",
      "(127987, 891)\n"
     ]
    }
   ],
   "source": [
    "tokenizer = Tokenizer(num_words = 5000)\n",
    "tokenizer.fit_on_texts(df['review_clean'])\n",
    "sequences = tokenizer.texts_to_sequences(df['review_clean'])\n",
    "# check the type of sequences\n",
    "print(type(sequences))\n",
    "#covert sequences to a numpy array using pad_sequence()\n",
    "X_text = pad_sequences(sequences)\n",
    "# Check the shape of the X_test\n",
    "print(X_text.shape)"
   ]
  },
  {
   "cell_type": "markdown",
   "id": "c41cfa31-9d57-4fe2-8f7e-af2ada52f3b8",
   "metadata": {},
   "source": [
    "## Scale numerical features"
   ]
  },
  {
   "cell_type": "code",
   "execution_count": 52,
   "id": "29a28ab1-c09b-4b2f-ade6-c364ca659e78",
   "metadata": {},
   "outputs": [
    {
     "name": "stdout",
     "output_type": "stream",
     "text": [
      "(127987, 9)\n"
     ]
    }
   ],
   "source": [
    "numerical_cols = ['rating', 'usefulCount',\n",
    "        'review_len', 'mean_sentence_len',\n",
    "       'word_count', 'mean_word_len', 'unique_word_count',\n",
    "       'sentiment_subjectivity', 'sentiment_score']\n",
    "\n",
    "scaler = MinMaxScaler()\n",
    "X_numerical = scaler.fit_transform(df[numerical_cols])\n",
    "\n",
    "# check the shape of the feature\n",
    "print(X_numerical.shape)"
   ]
  },
  {
   "cell_type": "markdown",
   "id": "473fc700-85df-4d43-ac7f-52f5a7be9b0d",
   "metadata": {},
   "source": [
    "## categorical features preprocess"
   ]
  },
  {
   "cell_type": "code",
   "execution_count": null,
   "id": "17a4b75f-512f-46d1-b1a0-9a62a8945521",
   "metadata": {},
   "outputs": [],
   "source": [
    "# encode the categorica columns \"drugName\",  \"condition\", \"rating_category\", \"sentiment_label\"\n",
    "\n",
    "# endcode drugName\n",
    "drugName_encode = LabelEncoder()\n",
    "X_drugName = drugName_encode.fit_transform(df['drugName'])\n",
    "\n",
    "# encode condition\n",
    "condition_encode = LabelEncoder()\n",
    "X_condition = condition_encode.fit_transform(df['condition'])\n",
    "\n",
    "# check the shape of features\n",
    "print(X_drugName.shape)\n",
    "print(X_condition.shape)\n",
    "\n",
    "# Extract date features\n",
    "df['date'] = pd.to_datetime(df['date'])\n",
    "df['year'] = df['date'].dt.year\n",
    "df['month'] = df['date'].dt.month\n",
    "df['day'] = df['date'].dt.day\n",
    "\n",
    "# combine the extract features\n",
    "X_comb1= np.concatenate([X_text,X_numerical, X_drugName.reshape(-1,1), X_condition.reshape(-1,1), df[['year','month','day']].values],axis = 1)\n",
    "print(X_comb1.shape)"
   ]
  },
  {
   "cell_type": "code",
   "execution_count": 44,
   "id": "a3fa0506-9177-4a11-a8a7-2c1c9e460623",
   "metadata": {},
   "outputs": [
    {
     "name": "stdout",
     "output_type": "stream",
     "text": [
      "(127987,)\n"
     ]
    }
   ],
   "source": [
    "#encode rating_category\n",
    "rating_category_encode = LabelEncoder()\n",
    "X_rating_category = rating_category_encode.fit_transform(df['rating_category'])\n",
    "# check the shape of features\n",
    "print(X_rating_category.shape)"
   ]
  },
  {
   "cell_type": "code",
   "execution_count": 47,
   "id": "aab26589-c191-4195-a9b5-3aa0ab0c04b4",
   "metadata": {},
   "outputs": [
    {
     "name": "stdout",
     "output_type": "stream",
     "text": [
      "(127987, 906)\n"
     ]
    }
   ],
   "source": [
    "X_comb2= np.concatenate([X_comb1, X_rating_category.reshape(-1,1)],axis = 1)\n",
    "print(X_comb2.shape)"
   ]
  },
  {
   "cell_type": "markdown",
   "id": "c80ccd02-4d99-4ba8-8706-332c9892633a",
   "metadata": {},
   "source": [
    "## Preprocess of Target 'sentiment_label'"
   ]
  },
  {
   "cell_type": "code",
   "execution_count": 55,
   "id": "843608a2-9335-46cf-92a5-b3225b6166c4",
   "metadata": {},
   "outputs": [],
   "source": [
    "sentiment_label_encode = LabelEncoder()\n",
    "y_encode = sentiment_label_encode.fit_transform(df['sentiment_label'])"
   ]
  },
  {
   "cell_type": "code",
   "execution_count": 57,
   "id": "e9196002-8524-48af-90ba-0fa1ac468f44",
   "metadata": {},
   "outputs": [],
   "source": [
    "from keras.utils import to_categorical\n",
    "y = to_categorical(y_encode)"
   ]
  },
  {
   "cell_type": "markdown",
   "id": "9e5c10fb-add3-4061-979a-47901a472e34",
   "metadata": {},
   "source": [
    "## Train Test Split"
   ]
  },
  {
   "cell_type": "code",
   "execution_count": 60,
   "id": "bab4271a-a419-40ce-a4ff-8d9a45bb2377",
   "metadata": {},
   "outputs": [],
   "source": [
    "X_train,X_test,y_train, y_test = train_test_split(X_comb2, y, test_size = 0.25, random_state = 123)"
   ]
  },
  {
   "cell_type": "code",
   "execution_count": 61,
   "id": "b8d8911a-7ba4-4c28-b28a-fad0f090e4ad",
   "metadata": {},
   "outputs": [
    {
     "name": "stdout",
     "output_type": "stream",
     "text": [
      "(95990, 906) (31997, 906) (95990, 3) (31997, 3)\n"
     ]
    }
   ],
   "source": [
    "print(X_train.shape, X_test.shape, y_train.shape, y_test.shape)"
   ]
  },
  {
   "cell_type": "markdown",
   "id": "8356de73-ac15-437a-81ce-0e1d3631a31f",
   "metadata": {},
   "source": [
    "## Compute Class Weights\n",
    "the dataset is imbalanced, more postive sentiment label than negative label, here, the class weigth is used to treat the imblance data."
   ]
  },
  {
   "cell_type": "code",
   "execution_count": 64,
   "id": "286dee5f-3b54-4052-ba58-edee4eb6a023",
   "metadata": {},
   "outputs": [],
   "source": [
    "from sklearn.utils.class_weight import compute_class_weight\n",
    "class_weights = compute_class_weight(class_weight=\"balanced\", classes=np.unique(y_train.argmax(axis =1)), y=y_train.argmax(1))"
   ]
  },
  {
   "cell_type": "code",
   "execution_count": 66,
   "id": "5e875fcd-2327-4c86-920c-c5133baced30",
   "metadata": {},
   "outputs": [
    {
     "name": "stdout",
     "output_type": "stream",
     "text": [
      "Class 'negative': Weight 1.261499237764811\n",
      "Class 'neutral': Weight 3.1545565085937755\n",
      "Class 'positive': Weight 0.529019173431653\n"
     ]
    }
   ],
   "source": [
    "class_names = sentiment_label_encode.classes_\n",
    "for class_name, weight in zip(class_names, class_weights):\n",
    "    print(f\"Class '{class_name}': Weight {weight}\")"
   ]
  },
  {
   "cell_type": "markdown",
   "id": "5bd5d00a-22af-43d7-a3bf-414750d4ff2d",
   "metadata": {},
   "source": [
    "# Modeling"
   ]
  },
  {
   "cell_type": "markdown",
   "id": "d4fb2eaf-522b-459b-8b6b-6d6a236949b8",
   "metadata": {},
   "source": [
    "## LSTM Model"
   ]
  },
  {
   "cell_type": "code",
   "execution_count": 68,
   "id": "27c4277a-daaa-4f20-b583-d0e062e16e9a",
   "metadata": {},
   "outputs": [
    {
     "name": "stdout",
     "output_type": "stream",
     "text": [
      "WARNING:tensorflow:From C:\\Users\\Yan Zhang\\anaconda3\\envs\\Capstone_Three_Project\\lib\\site-packages\\keras\\src\\backend.py:873: The name tf.get_default_graph is deprecated. Please use tf.compat.v1.get_default_graph instead.\n",
      "\n"
     ]
    }
   ],
   "source": [
    "lstm_model = Sequential()\n"
   ]
  },
  {
   "cell_type": "code",
   "execution_count": null,
   "id": "15075d7b-cb6c-4df4-a60d-4fb881a18bd0",
   "metadata": {},
   "outputs": [],
   "source": []
  }
 ],
 "metadata": {
  "kernelspec": {
   "display_name": "Capstone_Three_Project",
   "language": "python",
   "name": "capstone_three_project"
  },
  "language_info": {
   "codemirror_mode": {
    "name": "ipython",
    "version": 3
   },
   "file_extension": ".py",
   "mimetype": "text/x-python",
   "name": "python",
   "nbconvert_exporter": "python",
   "pygments_lexer": "ipython3",
   "version": "3.10.13"
  }
 },
 "nbformat": 4,
 "nbformat_minor": 5
}
